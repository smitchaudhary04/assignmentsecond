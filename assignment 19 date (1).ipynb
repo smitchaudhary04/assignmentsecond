{
 "cells": [
  {
   "cell_type": "code",
   "execution_count": 1,
   "id": "bcfa6f5b-08a4-49da-83c6-30ece0ec790b",
   "metadata": {},
   "outputs": [],
   "source": [
    "l =[1,2,3,4,5,6,7,8,9,10,11,12,13,14,15,16,17,18,19,20,21,22,23,24,25] "
   ]
  },
  {
   "cell_type": "code",
   "execution_count": 2,
   "id": "7553fef3-344b-4008-8028-ad20c490db94",
   "metadata": {},
   "outputs": [
    {
     "data": {
      "text/plain": [
       "[1,\n",
       " 2,\n",
       " 3,\n",
       " 4,\n",
       " 5,\n",
       " 6,\n",
       " 7,\n",
       " 8,\n",
       " 9,\n",
       " 10,\n",
       " 11,\n",
       " 12,\n",
       " 13,\n",
       " 14,\n",
       " 15,\n",
       " 16,\n",
       " 17,\n",
       " 18,\n",
       " 19,\n",
       " 20,\n",
       " 21,\n",
       " 22,\n",
       " 23,\n",
       " 24,\n",
       " 25]"
      ]
     },
     "execution_count": 2,
     "metadata": {},
     "output_type": "execute_result"
    }
   ],
   "source": [
    "l"
   ]
  },
  {
   "cell_type": "code",
   "execution_count": 8,
   "id": "d3069906-8029-4227-a212-cc6c7322c04b",
   "metadata": {},
   "outputs": [
    {
     "data": {
      "text/plain": [
       "[1, 3, 5, 7, 9, 11, 13, 15, 17, 19, 21, 23, 25]"
      ]
     },
     "execution_count": 8,
     "metadata": {},
     "output_type": "execute_result"
    }
   ],
   "source": [
    "list(filter(lambda x : x % 2 !=0 ,l)) "
   ]
  },
  {
   "cell_type": "markdown",
   "id": "46039697-03a6-4350-9bd1-ed6f22d759b5",
   "metadata": {},
   "source": [
    "#ans 1 def keyword is used.\n"
   ]
  },
  {
   "cell_type": "markdown",
   "id": "c77f897c-a421-4b60-8c5a-18ac55415078",
   "metadata": {},
   "source": [
    "\n",
    "#ans 2 args and kwargs used when you are unsure about the numbers of arguments to pass the function "
   ]
  },
  {
   "cell_type": "code",
   "execution_count": 9,
   "id": "0a3bfb10-048e-4ef4-9851-e410954bf3ab",
   "metadata": {},
   "outputs": [],
   "source": [
    "def multiply(num1,num2) : \n",
    "    return num1*num2 \n"
   ]
  },
  {
   "cell_type": "code",
   "execution_count": 10,
   "id": "115d0ab2-ed2a-4810-b1fc-4d13c5d83e9e",
   "metadata": {},
   "outputs": [
    {
     "name": "stdout",
     "output_type": "stream",
     "text": [
      "prodct 6\n"
     ]
    }
   ],
   "source": [
    "print(\"prodct\",multiply(2,3)) "
   ]
  },
  {
   "cell_type": "markdown",
   "id": "ea4ee86a-9e39-446c-95cf-96241212ec8d",
   "metadata": {},
   "source": [
    "#ans 3 itarator is object that allows you to itarete over collection of data "
   ]
  },
  {
   "cell_type": "code",
   "execution_count": 14,
   "id": "f1857331-1428-4bca-b6b5-6b24aad9b6f9",
   "metadata": {},
   "outputs": [],
   "source": [
    "list = [ 2,4,6,8,10,12,14,16,18,20] \n",
    "n= 5 "
   ]
  },
  {
   "cell_type": "code",
   "execution_count": 16,
   "id": "5dde01f7-f252-4f3c-be0e-046b90f3000c",
   "metadata": {},
   "outputs": [
    {
     "name": "stdout",
     "output_type": "stream",
     "text": [
      "2\n",
      "4\n",
      "6\n",
      "8\n",
      "10\n"
     ]
    }
   ],
   "source": [
    "for i in range(n) : \n",
    "    print(list[i]) "
   ]
  },
  {
   "cell_type": "code",
   "execution_count": 17,
   "id": "32ed94f9-9a82-4ace-b0f0-653bf84268c7",
   "metadata": {},
   "outputs": [],
   "source": [
    "#ans 4 a function that returnd itarator that produces a sequance of values whwn itarated over .yeild keyword is used in python because it controlls the flow of generator function . "
   ]
  },
  {
   "cell_type": "code",
   "execution_count": 4,
   "id": "b014f402-effd-4f11-9b43-ee2ac0cd1c32",
   "metadata": {},
   "outputs": [],
   "source": [
    "def mygenarator(): \n",
    "    print(\"first item\") \n",
    "    yield 10 \n",
    "    print(\"second item\") \n",
    "    yield 20\n",
    "    print(\"third item\") \n",
    "    yield 30 "
   ]
  },
  {
   "cell_type": "code",
   "execution_count": 6,
   "id": "bab76d60-12f1-4c6d-97f9-bcd3efeda8e0",
   "metadata": {},
   "outputs": [
    {
     "name": "stdout",
     "output_type": "stream",
     "text": [
      "10\n"
     ]
    }
   ],
   "source": [
    "print(10) "
   ]
  },
  {
   "cell_type": "code",
   "execution_count": 9,
   "id": "2e6395b1-3915-490e-a1ad-6ba93b1368c5",
   "metadata": {},
   "outputs": [
    {
     "name": "stdout",
     "output_type": "stream",
     "text": [
      "1\n",
      "1\n",
      "2\n",
      "3\n",
      "5\n",
      "8\n",
      "13\n"
     ]
    }
   ],
   "source": [
    "a,b=0,1\n",
    "while b<= 20: \n",
    "    print(b) \n",
    "    a,b=b,a+b \n",
    "    \n"
   ]
  },
  {
   "cell_type": "code",
   "execution_count": 8,
   "id": "8891a1ad-6330-48cb-a5d5-ab1339a33a24",
   "metadata": {},
   "outputs": [
    {
     "name": "stdout",
     "output_type": "stream",
     "text": [
      "done\n"
     ]
    }
   ],
   "source": [
    "print(\"done\") "
   ]
  },
  {
   "cell_type": "code",
   "execution_count": 1,
   "id": "f8530108-8ddf-423c-b8bb-9374d8be05cd",
   "metadata": {},
   "outputs": [
    {
     "data": {
      "text/plain": [
       "['P', 'W', 'S', 'K', 'I', 'L', 'L', 'S']"
      ]
     },
     "execution_count": 1,
     "metadata": {},
     "output_type": "execute_result"
    }
   ],
   "source": [
    "s=\"pwskills\"\n",
    "list(map(lambda s : s.upper() ,s)) "
   ]
  },
  {
   "cell_type": "code",
   "execution_count": null,
   "id": "1cef2086-80af-4f56-88f2-d8919c86d97e",
   "metadata": {},
   "outputs": [],
   "source": [
    "odd_list= [ x for x in range(100) if x % 2 !=0] \n",
    "print(\"odd_numbers :\","
   ]
  }
 ],
 "metadata": {
  "kernelspec": {
   "display_name": "Python 3 (ipykernel)",
   "language": "python",
   "name": "python3"
  },
  "language_info": {
   "codemirror_mode": {
    "name": "ipython",
    "version": 3
   },
   "file_extension": ".py",
   "mimetype": "text/x-python",
   "name": "python",
   "nbconvert_exporter": "python",
   "pygments_lexer": "ipython3",
   "version": "3.10.8"
  }
 },
 "nbformat": 4,
 "nbformat_minor": 5
}
